{
 "cells": [
  {
   "cell_type": "markdown",
   "metadata": {},
   "source": [
    "### Imports\n",
    "* Note that module level tolerances are printed on module import. \n",
    "  * These can be overriden after import by just setting them eg. `mseutils.MZ_PPM = 7`\n"
   ]
  },
  {
   "cell_type": "code",
   "execution_count": 1,
   "metadata": {},
   "outputs": [
    {
     "name": "stdout",
     "output_type": "stream",
     "text": [
      "Global Tolerances:\n",
      "####################\n",
      "RT_WINDOW : 0.06\n",
      "CCS_PPT : 10\n",
      "MZ_PPM : 5\n",
      "MS2_PPM : 25\n",
      "####################\n"
     ]
    }
   ],
   "source": [
    "import mseutils\n",
    "import os #just needed for loading datafiles"
   ]
  },
  {
   "cell_type": "markdown",
   "metadata": {},
   "source": [
    "### Get Data Files from Module Path"
   ]
  },
  {
   "cell_type": "code",
   "execution_count": 2,
   "metadata": {},
   "outputs": [],
   "source": [
    "modpath = mseutils.__path__[0]\n",
    "data_path = os.path.join(modpath,'..','examples','data')\n",
    "rep_file = os.path.join(data_path,\"SW218968-1_replicated.csv\")\n",
    "rep_frag_file = os.path.join(data_path,\"SW218968-1_rep_fragments.csv\")\n",
    "mgf_file = os.path.join(data_path,\"20160928_SW218968-1_iDTs_CPPIS.mgf\")\n"
   ]
  },
  {
   "cell_type": "markdown",
   "metadata": {},
   "source": [
    "### Load Replicated CSV files\n",
    "The `load_rep_and_frags_csv` func from the `file_parsers` reads in a replicated parent mass csv and the accompanying fragments file. The resulting `MseSpec`'s are then combined based on retetion time, drift time (ccs), and parent mz. Their fragments are added and averaged (m/z and intensity)."
   ]
  },
  {
   "cell_type": "code",
   "execution_count": 3,
   "metadata": {},
   "outputs": [
    {
     "name": "stdout",
     "output_type": "stream",
     "text": [
      "reading csv file and grouping...\n",
      "creating MseSpecs\n"
     ]
    },
    {
     "name": "stderr",
     "output_type": "stream",
     "text": [
      "processing file: 100%|█████████████████████████████████████████████████████████| 1588/1588 [00:02<00:00, 586.54it/s]\n"
     ]
    },
    {
     "name": "stdout",
     "output_type": "stream",
     "text": [
      "0.055\n"
     ]
    },
    {
     "name": "stderr",
     "output_type": "stream",
     "text": [
      "combining MseSpec's: 100%|██████████████████████████████████████████████████████| 840/840 [00:00<00:00, 3031.06it/s]\n"
     ]
    },
    {
     "name": "stdout",
     "output_type": "stream",
     "text": [
      "840 combined spec (47.10%)\n"
     ]
    }
   ],
   "source": [
    "rep_mse_specs = mseutils.file_parsers.load_rep_and_frags_csv(rep_file,rep_frag_file)"
   ]
  },
  {
   "cell_type": "markdown",
   "metadata": {},
   "source": [
    "### Load a MGF file\n",
    "You can also load a mgf file directly by using the `load_mgf` function in `file_parsers`."
   ]
  },
  {
   "cell_type": "code",
   "execution_count": 4,
   "metadata": {},
   "outputs": [
    {
     "name": "stderr",
     "output_type": "stream",
     "text": [
      "loading mgf: 3753it [00:05, 694.10it/s]\n"
     ]
    }
   ],
   "source": [
    "mgf_mse_specs = mseutils.file_parsers.load_mgf(mgf_file)"
   ]
  },
  {
   "cell_type": "markdown",
   "metadata": {},
   "source": [
    "## MseSpec Objects\n",
    "The `MseSpec` object is pretty powerful class that holds information about an MSe spectrum as the name might suggest. \n",
    "\n",
    "This provides access to :\n",
    "* parent mz (mse.mz)\n",
    "* ccs (mse.mz)\n",
    "* retention time (in min) (mse.rt)\n",
    "* ms2_data (mse.ms2_data)\n",
    "* the number of spectra that were combined to make it up (mse.n)\n",
    "* and their mgf filenames (mse.mgf_files)\n",
    "* and others...\n",
    "    * like a ms2 fingerprint (mse.ms2vect) made by binning (1 amu) ms2_data"
   ]
  },
  {
   "cell_type": "code",
   "execution_count": 5,
   "metadata": {},
   "outputs": [
    {
     "name": "stdout",
     "output_type": "stream",
     "text": [
      "m/z: 151.0336 +/- 7.6e-05\n",
      "mse: 102.9200 +/- 1\n",
      "rt: 3.8380 +/- 0.03\n",
      "ms2 data: {MZ(mz=77.0385,z=1,ppm=25): 4095.5, MZ(mz=109.01135,z=1,ppm=25): 7175.5, MZ(mz=141.07045,z=1,ppm=25): 10618.5}\n"
     ]
    }
   ],
   "source": [
    "mse = rep_mse_specs[0]\n",
    "print(\"m/z: {}\".format(mse.mz))\n",
    "print(\"mse: {}\".format(mse.ccs))\n",
    "print(\"rt: {}\".format(mse.rt))\n",
    "print(\"ms2 data: {}\".format(mse.ms2_data))"
   ]
  },
  {
   "cell_type": "markdown",
   "metadata": {},
   "source": [
    "There is also a IPython/Jupyter Notebook hook for visualizing the ms2_data. The coloring is the matplotlib \"viridis\" color scheme and represents relative intensity of each fragment. "
   ]
  },
  {
   "cell_type": "code",
   "execution_count": 6,
   "metadata": {},
   "outputs": [
    {
     "data": {
      "image/svg+xml": [
       "<?xml version=\"1.0\" encoding=\"UTF-8\" standalone=\"no\"?>\r\n",
       "<!DOCTYPE svg PUBLIC \"-//W3C//DTD SVG 1.1//EN\"\r\n",
       " \"http://www.w3.org/Graphics/SVG/1.1/DTD/svg11.dtd\">\r\n",
       "<!-- Generated by graphviz version 2.38.0 (20140413.2041)\r\n",
       " -->\r\n",
       "<!-- Title: %3 Pages: 1 -->\r\n",
       "<svg width=\"565pt\" height=\"116pt\"\r\n",
       " viewBox=\"0.00 0.00 565.23 116.00\" xmlns=\"http://www.w3.org/2000/svg\" xmlns:xlink=\"http://www.w3.org/1999/xlink\">\r\n",
       "<g id=\"graph0\" class=\"graph\" transform=\"scale(1 1) rotate(0) translate(4 112)\">\r\n",
       "<title>%3</title>\r\n",
       "<polygon fill=\"white\" stroke=\"none\" points=\"-4,4 -4,-112 561.235,-112 561.235,4 -4,4\"/>\r\n",
       "<!-- ParentIon -->\r\n",
       "<g id=\"node1\" class=\"node\"><title>ParentIon</title>\r\n",
       "<ellipse fill=\"none\" stroke=\"black\" stroke-width=\"3\" cx=\"273.843\" cy=\"-90\" rx=\"86.3847\" ry=\"18\"/>\r\n",
       "<text text-anchor=\"middle\" x=\"273.843\" y=\"-86.3\" font-family=\"Times New Roman,serif\" font-size=\"14.00\">151.0335 +/&#45; 7.6e&#45;05</text>\r\n",
       "</g>\r\n",
       "<!-- DaughterIon_0 -->\r\n",
       "<g id=\"node2\" class=\"node\"><title>DaughterIon_0</title>\r\n",
       "<ellipse fill=\"none\" stroke=\"#440154\" stroke-width=\"3\" cx=\"83.8426\" cy=\"-18\" rx=\"83.6854\" ry=\"18\"/>\r\n",
       "<text text-anchor=\"middle\" x=\"83.8426\" y=\"-14.3\" font-family=\"Times New Roman,serif\" font-size=\"14.00\">77.0385 +/&#45; 0.00019</text>\r\n",
       "</g>\r\n",
       "<!-- ParentIon&#45;&gt;DaughterIon_0 -->\r\n",
       "<g id=\"edge1\" class=\"edge\"><title>ParentIon&#45;&gt;DaughterIon_0</title>\r\n",
       "<path fill=\"none\" stroke=\"black\" stroke-width=\"2.5\" d=\"M233.083,-73.9832C204.057,-63.2897 164.873,-48.8533 133.939,-37.4565\"/>\r\n",
       "<polygon fill=\"black\" stroke=\"black\" stroke-width=\"2.5\" points=\"134.802,-34.0445 124.208,-33.8716 132.382,-40.6129 134.802,-34.0445\"/>\r\n",
       "</g>\r\n",
       "<!-- DaughterIon_1 -->\r\n",
       "<g id=\"node3\" class=\"node\"><title>DaughterIon_1</title>\r\n",
       "<ellipse fill=\"none\" stroke=\"#23898e\" stroke-width=\"3\" cx=\"273.843\" cy=\"-18\" rx=\"88.2844\" ry=\"18\"/>\r\n",
       "<text text-anchor=\"middle\" x=\"273.843\" y=\"-14.3\" font-family=\"Times New Roman,serif\" font-size=\"14.00\">109.0113 +/&#45; 0.00027</text>\r\n",
       "</g>\r\n",
       "<!-- ParentIon&#45;&gt;DaughterIon_1 -->\r\n",
       "<g id=\"edge2\" class=\"edge\"><title>ParentIon&#45;&gt;DaughterIon_1</title>\r\n",
       "<path fill=\"none\" stroke=\"black\" stroke-width=\"2.5\" d=\"M273.843,-71.6966C273.843,-63.9827 273.843,-54.7125 273.843,-46.1124\"/>\r\n",
       "<polygon fill=\"black\" stroke=\"black\" stroke-width=\"2.5\" points=\"277.343,-46.1043 273.843,-36.1043 270.343,-46.1044 277.343,-46.1043\"/>\r\n",
       "</g>\r\n",
       "<!-- DaughterIon_2 -->\r\n",
       "<g id=\"node4\" class=\"node\"><title>DaughterIon_2</title>\r\n",
       "<ellipse fill=\"none\" stroke=\"#fde725\" stroke-width=\"3\" cx=\"468.843\" cy=\"-18\" rx=\"88.2844\" ry=\"18\"/>\r\n",
       "<text text-anchor=\"middle\" x=\"468.843\" y=\"-14.3\" font-family=\"Times New Roman,serif\" font-size=\"14.00\">141.0704 +/&#45; 0.00035</text>\r\n",
       "</g>\r\n",
       "<!-- ParentIon&#45;&gt;DaughterIon_2 -->\r\n",
       "<g id=\"edge3\" class=\"edge\"><title>ParentIon&#45;&gt;DaughterIon_2</title>\r\n",
       "<path fill=\"none\" stroke=\"black\" stroke-width=\"2.5\" d=\"M315.197,-74.1548C345.085,-63.4256 385.652,-48.8633 417.596,-37.3961\"/>\r\n",
       "<polygon fill=\"black\" stroke=\"black\" stroke-width=\"2.5\" points=\"418.983,-40.6172 427.212,-33.9443 416.618,-34.0288 418.983,-40.6172\"/>\r\n",
       "</g>\r\n",
       "</g>\r\n",
       "</svg>\r\n"
      ],
      "text/plain": [
       "{MZ(mz=77.0385,z=1,ppm=25): 4095.5, MZ(mz=109.01135,z=1,ppm=25): 7175.5, MZ(mz=141.07045,z=1,ppm=25): 10618.5}"
      ]
     },
     "execution_count": 6,
     "metadata": {},
     "output_type": "execute_result"
    }
   ],
   "source": [
    "mse.ms2_data"
   ]
  },
  {
   "cell_type": "markdown",
   "metadata": {},
   "source": [
    "### Source Fragmentation\n",
    "To look at source fragments `src_frags` will compare each fragment within the retention time error window and check if the parent mz is in the ms2_data of another spec in that range. The fuction then adds the source frags to the `mse.src_frags` list. In the future I'll make the ms3 trees...\n"
   ]
  },
  {
   "cell_type": "code",
   "execution_count": 7,
   "metadata": {},
   "outputs": [
    {
     "name": "stderr",
     "output_type": "stream",
     "text": [
      "100%|███████████████████████████████████████████████████████████████████████████| 840/840 [00:00<00:00, 7412.16it/s]\n"
     ]
    },
    {
     "name": "stdout",
     "output_type": "stream",
     "text": [
      "combining srg frags...\n"
     ]
    }
   ],
   "source": [
    "combined_src_frags = mseutils.src_frags(rep_mse_specs)"
   ]
  },
  {
   "cell_type": "code",
   "execution_count": 8,
   "metadata": {},
   "outputs": [
    {
     "name": "stdout",
     "output_type": "stream",
     "text": [
      "Number of Specs with source fragments: 1\n"
     ]
    },
    {
     "data": {
      "image/svg+xml": [
       "<?xml version=\"1.0\" encoding=\"UTF-8\" standalone=\"no\"?>\r\n",
       "<!DOCTYPE svg PUBLIC \"-//W3C//DTD SVG 1.1//EN\"\r\n",
       " \"http://www.w3.org/Graphics/SVG/1.1/DTD/svg11.dtd\">\r\n",
       "<!-- Generated by graphviz version 2.38.0 (20140413.2041)\r\n",
       " -->\r\n",
       "<!-- Title: %3 Pages: 1 -->\r\n",
       "<svg width=\"2895pt\" height=\"116pt\"\r\n",
       " viewBox=\"0.00 0.00 2895.23 116.00\" xmlns=\"http://www.w3.org/2000/svg\" xmlns:xlink=\"http://www.w3.org/1999/xlink\">\r\n",
       "<g id=\"graph0\" class=\"graph\" transform=\"scale(1 1) rotate(0) translate(4 112)\">\r\n",
       "<title>%3</title>\r\n",
       "<polygon fill=\"white\" stroke=\"none\" points=\"-4,4 -4,-112 2891.23,-112 2891.23,4 -4,4\"/>\r\n",
       "<!-- ParentIon -->\r\n",
       "<g id=\"node1\" class=\"node\"><title>ParentIon</title>\r\n",
       "<ellipse fill=\"none\" stroke=\"black\" stroke-width=\"3\" cx=\"1433.84\" cy=\"-90\" rx=\"88.2844\" ry=\"18\"/>\r\n",
       "<text text-anchor=\"middle\" x=\"1433.84\" y=\"-86.3\" font-family=\"Times New Roman,serif\" font-size=\"14.00\">219.1758 +/&#45; 0.00011</text>\r\n",
       "</g>\r\n",
       "<!-- DaughterIon_0 -->\r\n",
       "<g id=\"node2\" class=\"node\"><title>DaughterIon_0</title>\r\n",
       "<ellipse fill=\"none\" stroke=\"#fde725\" stroke-width=\"3\" cx=\"83.8426\" cy=\"-18\" rx=\"83.6854\" ry=\"18\"/>\r\n",
       "<text text-anchor=\"middle\" x=\"83.8426\" y=\"-14.3\" font-family=\"Times New Roman,serif\" font-size=\"14.00\">77.0387 +/&#45; 0.00019</text>\r\n",
       "</g>\r\n",
       "<!-- ParentIon&#45;&gt;DaughterIon_0 -->\r\n",
       "<g id=\"edge1\" class=\"edge\"><title>ParentIon&#45;&gt;DaughterIon_0</title>\r\n",
       "<path fill=\"none\" stroke=\"black\" stroke-width=\"2.5\" d=\"M1345.13,-89.4747C1139.22,-89.6576 613.148,-84.8371 176.843,-36 168.841,-35.1044 160.491,-33.9278 152.22,-32.6108\"/>\r\n",
       "<polygon fill=\"black\" stroke=\"black\" stroke-width=\"2.5\" points=\"152.638,-29.1323 142.2,-30.9441 151.49,-36.0374 152.638,-29.1323\"/>\r\n",
       "</g>\r\n",
       "<!-- DaughterIon_1 -->\r\n",
       "<g id=\"node3\" class=\"node\"><title>DaughterIon_1</title>\r\n",
       "<ellipse fill=\"none\" stroke=\"#fde725\" stroke-width=\"3\" cx=\"273.843\" cy=\"-18\" rx=\"88.2844\" ry=\"18\"/>\r\n",
       "<text text-anchor=\"middle\" x=\"273.843\" y=\"-14.3\" font-family=\"Times New Roman,serif\" font-size=\"14.00\">100.1127 +/&#45; 0.00025</text>\r\n",
       "</g>\r\n",
       "<!-- ParentIon&#45;&gt;DaughterIon_1 -->\r\n",
       "<g id=\"edge2\" class=\"edge\"><title>ParentIon&#45;&gt;DaughterIon_1</title>\r\n",
       "<path fill=\"none\" stroke=\"black\" stroke-width=\"2.5\" d=\"M1345.79,-88.229C1163.48,-85.836 731.677,-76.0381 371.843,-36 363.301,-35.0496 354.377,-33.8262 345.541,-32.4719\"/>\r\n",
       "<polygon fill=\"black\" stroke=\"black\" stroke-width=\"2.5\" points=\"346.054,-29.0096 335.628,-30.8948 344.954,-35.9226 346.054,-29.0096\"/>\r\n",
       "</g>\r\n",
       "<!-- DaughterIon_2 -->\r\n",
       "<g id=\"node4\" class=\"node\"><title>DaughterIon_2</title>\r\n",
       "<ellipse fill=\"none\" stroke=\"#fde725\" stroke-width=\"3\" cx=\"468.843\" cy=\"-18\" rx=\"88.2844\" ry=\"18\"/>\r\n",
       "<text text-anchor=\"middle\" x=\"468.843\" y=\"-14.3\" font-family=\"Times New Roman,serif\" font-size=\"14.00\">105.0704 +/&#45; 0.00026</text>\r\n",
       "</g>\r\n",
       "<!-- ParentIon&#45;&gt;DaughterIon_2 -->\r\n",
       "<g id=\"edge3\" class=\"edge\"><title>ParentIon&#45;&gt;DaughterIon_2</title>\r\n",
       "<path fill=\"none\" stroke=\"black\" stroke-width=\"2.5\" d=\"M1346.49,-86.8569C1189.82,-82.302 850.865,-69.2125 566.843,-36 558.46,-35.0198 549.706,-33.7942 541.028,-32.4527\"/>\r\n",
       "<polygon fill=\"black\" stroke=\"black\" stroke-width=\"2.5\" points=\"541.33,-28.9565 530.903,-30.8323 540.224,-35.8686 541.33,-28.9565\"/>\r\n",
       "</g>\r\n",
       "<!-- DaughterIon_3 -->\r\n",
       "<g id=\"node5\" class=\"node\"><title>DaughterIon_3</title>\r\n",
       "<ellipse fill=\"none\" stroke=\"#fde725\" stroke-width=\"3\" cx=\"663.843\" cy=\"-18\" rx=\"88.2844\" ry=\"18\"/>\r\n",
       "<text text-anchor=\"middle\" x=\"663.843\" y=\"-14.3\" font-family=\"Times New Roman,serif\" font-size=\"14.00\">107.0499 +/&#45; 0.00027</text>\r\n",
       "</g>\r\n",
       "<!-- ParentIon&#45;&gt;DaughterIon_3 -->\r\n",
       "<g id=\"edge4\" class=\"edge\"><title>ParentIon&#45;&gt;DaughterIon_3</title>\r\n",
       "<path fill=\"none\" stroke=\"black\" stroke-width=\"2.5\" d=\"M1348.98,-84.8452C1221.26,-78.0185 972.151,-62.4762 761.843,-36 753.592,-34.9613 744.978,-33.7119 736.429,-32.3677\"/>\r\n",
       "<polygon fill=\"black\" stroke=\"black\" stroke-width=\"2.5\" points=\"736.879,-28.8951 726.448,-30.7532 735.761,-35.8053 736.879,-28.8951\"/>\r\n",
       "</g>\r\n",
       "<!-- DaughterIon_4 -->\r\n",
       "<g id=\"node6\" class=\"node\"><title>DaughterIon_4</title>\r\n",
       "<ellipse fill=\"none\" stroke=\"#89d548\" stroke-width=\"3\" cx=\"858.843\" cy=\"-18\" rx=\"88.2844\" ry=\"18\"/>\r\n",
       "<text text-anchor=\"middle\" x=\"858.843\" y=\"-14.3\" font-family=\"Times New Roman,serif\" font-size=\"14.00\">117.0701 +/&#45; 0.00029</text>\r\n",
       "</g>\r\n",
       "<!-- ParentIon&#45;&gt;DaughterIon_4 -->\r\n",
       "<g id=\"edge5\" class=\"edge\"><title>ParentIon&#45;&gt;DaughterIon_4</title>\r\n",
       "<path fill=\"none\" stroke=\"black\" stroke-width=\"2.5\" d=\"M1354.99,-81.7944C1260.07,-72.7661 1095.94,-56.0235 955.843,-36 948.107,-34.8945 940.042,-33.6418 932.012,-32.3299\"/>\r\n",
       "<polygon fill=\"black\" stroke=\"black\" stroke-width=\"2.5\" points=\"932.325,-28.8339 921.886,-30.6429 931.175,-35.7387 932.325,-28.8339\"/>\r\n",
       "</g>\r\n",
       "<!-- DaughterIon_5 -->\r\n",
       "<g id=\"node7\" class=\"node\"><title>DaughterIon_5</title>\r\n",
       "<ellipse fill=\"none\" stroke=\"#fde725\" stroke-width=\"3\" cx=\"1048.84\" cy=\"-18\" rx=\"83.6854\" ry=\"18\"/>\r\n",
       "<text text-anchor=\"middle\" x=\"1048.84\" y=\"-14.3\" font-family=\"Times New Roman,serif\" font-size=\"14.00\">118.0419 +/&#45; 0.0003</text>\r\n",
       "</g>\r\n",
       "<!-- ParentIon&#45;&gt;DaughterIon_5 -->\r\n",
       "<g id=\"edge6\" class=\"edge\"><title>ParentIon&#45;&gt;DaughterIon_5</title>\r\n",
       "<path fill=\"none\" stroke=\"black\" stroke-width=\"2.5\" d=\"M1370.04,-77.4432C1310.88,-66.7218 1220.41,-50.3112 1141.84,-36 1134.85,-34.726 1127.56,-33.3965 1120.27,-32.0668\"/>\r\n",
       "<polygon fill=\"black\" stroke=\"black\" stroke-width=\"2.5\" points=\"1120.84,-28.6118 1110.37,-30.2584 1119.58,-35.498 1120.84,-28.6118\"/>\r\n",
       "</g>\r\n",
       "<!-- DaughterIon_6 -->\r\n",
       "<g id=\"node8\" class=\"node\"><title>DaughterIon_6</title>\r\n",
       "<ellipse fill=\"none\" stroke=\"#fde725\" stroke-width=\"3\" cx=\"1238.84\" cy=\"-18\" rx=\"88.2844\" ry=\"18\"/>\r\n",
       "<text text-anchor=\"middle\" x=\"1238.84\" y=\"-14.3\" font-family=\"Times New Roman,serif\" font-size=\"14.00\">128.0567 +/&#45; 0.00032</text>\r\n",
       "</g>\r\n",
       "<!-- ParentIon&#45;&gt;DaughterIon_6 -->\r\n",
       "<g id=\"edge7\" class=\"edge\"><title>ParentIon&#45;&gt;DaughterIon_6</title>\r\n",
       "<path fill=\"none\" stroke=\"black\" stroke-width=\"2.5\" d=\"M1392.01,-73.9832C1362.19,-63.2798 1321.93,-48.8267 1290.17,-37.4249\"/>\r\n",
       "<polygon fill=\"black\" stroke=\"black\" stroke-width=\"2.5\" points=\"1291.2,-34.0765 1280.61,-33.9919 1288.84,-40.6648 1291.2,-34.0765\"/>\r\n",
       "</g>\r\n",
       "<!-- DaughterIon_7 -->\r\n",
       "<g id=\"node9\" class=\"node\"><title>DaughterIon_7</title>\r\n",
       "<ellipse fill=\"none\" stroke=\"#277e8e\" stroke-width=\"3\" cx=\"1433.84\" cy=\"-18\" rx=\"88.2844\" ry=\"18\"/>\r\n",
       "<text text-anchor=\"middle\" x=\"1433.84\" y=\"-14.3\" font-family=\"Times New Roman,serif\" font-size=\"14.00\">131.0868 +/&#45; 0.00033</text>\r\n",
       "</g>\r\n",
       "<!-- ParentIon&#45;&gt;DaughterIon_7 -->\r\n",
       "<g id=\"edge8\" class=\"edge\"><title>ParentIon&#45;&gt;DaughterIon_7</title>\r\n",
       "<path fill=\"none\" stroke=\"black\" stroke-width=\"2.5\" d=\"M1433.84,-71.6966C1433.84,-63.9827 1433.84,-54.7125 1433.84,-46.1124\"/>\r\n",
       "<polygon fill=\"black\" stroke=\"black\" stroke-width=\"2.5\" points=\"1437.34,-46.1043 1433.84,-36.1043 1430.34,-46.1044 1437.34,-46.1043\"/>\r\n",
       "</g>\r\n",
       "<!-- DaughterIon_8 -->\r\n",
       "<g id=\"node10\" class=\"node\"><title>DaughterIon_8</title>\r\n",
       "<ellipse fill=\"none\" stroke=\"#fde725\" stroke-width=\"3\" cx=\"1628.84\" cy=\"-18\" rx=\"88.2844\" ry=\"18\"/>\r\n",
       "<text text-anchor=\"middle\" x=\"1628.84\" y=\"-14.3\" font-family=\"Times New Roman,serif\" font-size=\"14.00\">133.1024 +/&#45; 0.00033</text>\r\n",
       "</g>\r\n",
       "<!-- ParentIon&#45;&gt;DaughterIon_8 -->\r\n",
       "<g id=\"edge9\" class=\"edge\"><title>ParentIon&#45;&gt;DaughterIon_8</title>\r\n",
       "<path fill=\"none\" stroke=\"black\" stroke-width=\"2.5\" d=\"M1475.67,-73.9832C1505.49,-63.2798 1545.75,-48.8267 1577.52,-37.4249\"/>\r\n",
       "<polygon fill=\"black\" stroke=\"black\" stroke-width=\"2.5\" points=\"1578.85,-40.6648 1587.08,-33.9919 1576.48,-34.0765 1578.85,-40.6648\"/>\r\n",
       "</g>\r\n",
       "<!-- DaughterIon_9 -->\r\n",
       "<g id=\"node11\" class=\"node\"><title>DaughterIon_9</title>\r\n",
       "<ellipse fill=\"none\" stroke=\"#fde725\" stroke-width=\"3\" cx=\"1823.84\" cy=\"-18\" rx=\"88.2844\" ry=\"18\"/>\r\n",
       "<text text-anchor=\"middle\" x=\"1823.84\" y=\"-14.3\" font-family=\"Times New Roman,serif\" font-size=\"14.00\">143.1186 +/&#45; 0.00036</text>\r\n",
       "</g>\r\n",
       "<!-- ParentIon&#45;&gt;DaughterIon_9 -->\r\n",
       "<g id=\"edge10\" class=\"edge\"><title>ParentIon&#45;&gt;DaughterIon_9</title>\r\n",
       "<path fill=\"none\" stroke=\"black\" stroke-width=\"2.5\" d=\"M1497.81,-77.5193C1566.95,-65.1094 1676.99,-45.3574 1749.82,-32.2856\"/>\r\n",
       "<polygon fill=\"black\" stroke=\"black\" stroke-width=\"2.5\" points=\"1750.62,-35.6986 1759.84,-30.487 1749.38,-28.8087 1750.62,-35.6986\"/>\r\n",
       "</g>\r\n",
       "<!-- DaughterIon_10 -->\r\n",
       "<g id=\"node12\" class=\"node\"><title>DaughterIon_10</title>\r\n",
       "<ellipse fill=\"none\" stroke=\"#fde725\" stroke-width=\"3\" cx=\"2018.84\" cy=\"-18\" rx=\"88.2844\" ry=\"18\"/>\r\n",
       "<text text-anchor=\"middle\" x=\"2018.84\" y=\"-14.3\" font-family=\"Times New Roman,serif\" font-size=\"14.00\">151.0325 +/&#45; 0.00038</text>\r\n",
       "</g>\r\n",
       "<!-- ParentIon&#45;&gt;DaughterIon_10 -->\r\n",
       "<g id=\"edge11\" class=\"edge\"><title>ParentIon&#45;&gt;DaughterIon_10</title>\r\n",
       "<path fill=\"none\" stroke=\"black\" stroke-width=\"2.5\" d=\"M1512.9,-81.949C1609.4,-72.9843 1777.47,-56.2167 1920.84,-36 1928.8,-34.8773 1937.11,-33.6005 1945.38,-32.2629\"/>\r\n",
       "<polygon fill=\"black\" stroke=\"black\" stroke-width=\"2.5\" points=\"1946.11,-35.6887 1955.41,-30.6074 1944.98,-28.7821 1946.11,-35.6887\"/>\r\n",
       "</g>\r\n",
       "<!-- DaughterIon_11 -->\r\n",
       "<g id=\"node13\" class=\"node\"><title>DaughterIon_11</title>\r\n",
       "<ellipse fill=\"none\" stroke=\"#fde725\" stroke-width=\"3\" cx=\"2213.84\" cy=\"-18\" rx=\"88.2844\" ry=\"18\"/>\r\n",
       "<text text-anchor=\"middle\" x=\"2213.84\" y=\"-14.3\" font-family=\"Times New Roman,serif\" font-size=\"14.00\">188.1186 +/&#45; 0.00047</text>\r\n",
       "</g>\r\n",
       "<!-- ParentIon&#45;&gt;DaughterIon_11 -->\r\n",
       "<g id=\"edge12\" class=\"edge\"><title>ParentIon&#45;&gt;DaughterIon_11</title>\r\n",
       "<path fill=\"none\" stroke=\"black\" stroke-width=\"2.5\" d=\"M1518.89,-84.9698C1648.2,-78.2609 1901.82,-62.8189 2115.84,-36 2124.09,-34.9661 2132.71,-33.7196 2141.26,-32.3771\"/>\r\n",
       "<polygon fill=\"black\" stroke=\"black\" stroke-width=\"2.5\" points=\"2141.92,-35.8147 2151.24,-30.764 2140.81,-28.9044 2141.92,-35.8147\"/>\r\n",
       "</g>\r\n",
       "<!-- DaughterIon_12 -->\r\n",
       "<g id=\"node14\" class=\"node\"><title>DaughterIon_12</title>\r\n",
       "<ellipse fill=\"none\" stroke=\"#fde725\" stroke-width=\"3\" cx=\"2408.84\" cy=\"-18\" rx=\"88.2844\" ry=\"18\"/>\r\n",
       "<text text-anchor=\"middle\" x=\"2408.84\" y=\"-14.3\" font-family=\"Times New Roman,serif\" font-size=\"14.00\">203.1437 +/&#45; 0.00051</text>\r\n",
       "</g>\r\n",
       "<!-- ParentIon&#45;&gt;DaughterIon_12 -->\r\n",
       "<g id=\"edge13\" class=\"edge\"><title>ParentIon&#45;&gt;DaughterIon_12</title>\r\n",
       "<path fill=\"none\" stroke=\"black\" stroke-width=\"2.5\" d=\"M1521.26,-86.9402C1679.32,-82.4993 2022.98,-69.5606 2310.84,-36 2319.23,-35.0227 2327.98,-33.7989 2336.66,-32.4584\"/>\r\n",
       "<polygon fill=\"black\" stroke=\"black\" stroke-width=\"2.5\" points=\"2337.46,-35.8744 2346.78,-30.8389 2336.36,-28.9622 2337.46,-35.8744\"/>\r\n",
       "</g>\r\n",
       "<!-- DaughterIon_13 -->\r\n",
       "<g id=\"node15\" class=\"node\"><title>DaughterIon_13</title>\r\n",
       "<ellipse fill=\"none\" stroke=\"#fde725\" stroke-width=\"3\" cx=\"2603.84\" cy=\"-18\" rx=\"88.2844\" ry=\"18\"/>\r\n",
       "<text text-anchor=\"middle\" x=\"2603.84\" y=\"-14.3\" font-family=\"Times New Roman,serif\" font-size=\"14.00\">219.1745 +/&#45; 0.00055</text>\r\n",
       "</g>\r\n",
       "<!-- ParentIon&#45;&gt;DaughterIon_13 -->\r\n",
       "<g id=\"edge14\" class=\"edge\"><title>ParentIon&#45;&gt;DaughterIon_13</title>\r\n",
       "<path fill=\"none\" stroke=\"black\" stroke-width=\"2.5\" d=\"M1522.03,-88.2857C1705.64,-85.997 2142.16,-76.3813 2505.84,-36 2514.38,-35.0516 2523.31,-33.8294 2532.14,-32.4758\"/>\r\n",
       "<polygon fill=\"black\" stroke=\"black\" stroke-width=\"2.5\" points=\"2532.73,-35.9265 2542.06,-30.8992 2531.63,-29.0134 2532.73,-35.9265\"/>\r\n",
       "</g>\r\n",
       "<!-- DaughterIon_14 -->\r\n",
       "<g id=\"node16\" class=\"node\"><title>DaughterIon_14</title>\r\n",
       "<ellipse fill=\"none\" stroke=\"#fde725\" stroke-width=\"3\" cx=\"2798.84\" cy=\"-18\" rx=\"88.2844\" ry=\"18\"/>\r\n",
       "<text text-anchor=\"middle\" x=\"2798.84\" y=\"-14.3\" font-family=\"Times New Roman,serif\" font-size=\"14.00\">220.1779 +/&#45; 0.00055</text>\r\n",
       "</g>\r\n",
       "<!-- ParentIon&#45;&gt;DaughterIon_14 -->\r\n",
       "<g id=\"edge15\" class=\"edge\"><title>ParentIon&#45;&gt;DaughterIon_14</title>\r\n",
       "<path fill=\"none\" stroke=\"black\" stroke-width=\"2.5\" d=\"M1522.46,-89.2441C1729.39,-88.9529 2260.3,-83.2224 2700.84,-36 2709.45,-35.0773 2718.44,-33.8641 2727.34,-32.5095\"/>\r\n",
       "<polygon fill=\"black\" stroke=\"black\" stroke-width=\"2.5\" points=\"2728,-35.9497 2737.33,-30.9279 2726.9,-29.0359 2728,-35.9497\"/>\r\n",
       "</g>\r\n",
       "</g>\r\n",
       "</svg>\r\n"
      ],
      "text/plain": [
       "{MZ(mz=77.0387,z=1,ppm=25): 13797.0, MZ(mz=100.1127,z=1,ppm=25): 25160.0, MZ(mz=105.0704,z=1,ppm=25): 29076.0, MZ(mz=107.0499,z=1,ppm=25): 13738.0, MZ(mz=117.0701,z=1,ppm=25): 9462.0, MZ(mz=118.0419,z=1,ppm=25): 13657.0, MZ(mz=128.0567,z=1,ppm=25): 11814.0, MZ(mz=131.0868,z=1,ppm=25): 6857.0, MZ(mz=133.1024,z=1,ppm=25): 56146.0, MZ(mz=143.1186,z=1,ppm=25): 96067.0, MZ(mz=151.0325,z=1,ppm=25): 11709.0, MZ(mz=188.1186,z=1,ppm=25): 12017.0, MZ(mz=203.1437,z=1,ppm=25): 192587.0, MZ(mz=219.1745,z=1,ppm=25): 120046.0, MZ(mz=220.1779,z=1,ppm=25): 17209.0}"
      ]
     },
     "execution_count": 8,
     "metadata": {},
     "output_type": "execute_result"
    }
   ],
   "source": [
    "specs_wsrc_frags = [mse for mse in combined_src_frags if len(mse.src_frags)>0]\n",
    "print(\"Number of Specs with source fragments: {}\".format(len(specs_wsrc_frags)))\n",
    "specs_wsrc_frags[0].ms2_data"
   ]
  },
  {
   "cell_type": "code",
   "execution_count": 9,
   "metadata": {},
   "outputs": [
    {
     "data": {
      "text/plain": [
       "MseSpec(mz=203.1432 +/- 0.0001,rt=4.0845 +/- 0.03,ccs=129.2900 +/- 1.3)"
      ]
     },
     "execution_count": 9,
     "metadata": {},
     "output_type": "execute_result"
    }
   ],
   "source": [
    "specs_wsrc_frags[0].src_frags[0]"
   ]
  },
  {
   "cell_type": "markdown",
   "metadata": {},
   "source": [
    "I think this spec with source fragmentation in this file is noise, the copius number of fragments with small mass deltas of the above doesn't ring true to me... TBD"
   ]
  },
  {
   "cell_type": "markdown",
   "metadata": {},
   "source": [
    "### Misc and etc"
   ]
  },
  {
   "cell_type": "markdown",
   "metadata": {},
   "source": [
    "There's a bunch of smaller classes used for comparing mz's rt's and ccs's. They all incorporate some basic arithmatic and comparison operators. Below is an example with `mseutils.MZ` objects"
   ]
  },
  {
   "cell_type": "code",
   "execution_count": 10,
   "metadata": {},
   "outputs": [
    {
     "data": {
      "text/plain": [
       "True"
      ]
     },
     "execution_count": 10,
     "metadata": {},
     "output_type": "execute_result"
    }
   ],
   "source": [
    "mz1 = mseutils.MZ(123.4678,z=1)\n",
    "mz2 = mseutils.MZ(123.4678001,z=1)\n",
    "mz3 = mseutils.MZ(123.4600,z=1)\n",
    "mz4 = mseutils.MZ(123.4678,z=2)\n",
    "mz1 == mz2"
   ]
  },
  {
   "cell_type": "code",
   "execution_count": 11,
   "metadata": {},
   "outputs": [
    {
     "data": {
      "text/plain": [
       "False"
      ]
     },
     "execution_count": 11,
     "metadata": {},
     "output_type": "execute_result"
    }
   ],
   "source": [
    "mz1 == mz3"
   ]
  },
  {
   "cell_type": "code",
   "execution_count": 12,
   "metadata": {},
   "outputs": [
    {
     "data": {
      "text/plain": [
       "False"
      ]
     },
     "execution_count": 12,
     "metadata": {},
     "output_type": "execute_result"
    }
   ],
   "source": [
    "mz1==mz4"
   ]
  },
  {
   "cell_type": "code",
   "execution_count": 13,
   "metadata": {},
   "outputs": [
    {
     "data": {
      "text/plain": [
       "MZ(mz=246.9278,z=1,ppm=5)"
      ]
     },
     "execution_count": 13,
     "metadata": {},
     "output_type": "execute_result"
    }
   ],
   "source": [
    "mz1 + mz3 "
   ]
  },
  {
   "cell_type": "code",
   "execution_count": 14,
   "metadata": {},
   "outputs": [
    {
     "data": {
      "text/plain": [
       "True"
      ]
     },
     "execution_count": 14,
     "metadata": {},
     "output_type": "execute_result"
    }
   ],
   "source": [
    "mz1 > mz3"
   ]
  },
  {
   "cell_type": "code",
   "execution_count": null,
   "metadata": {},
   "outputs": [],
   "source": []
  }
 ],
 "metadata": {
  "kernelspec": {
   "display_name": "Python 3",
   "language": "python",
   "name": "python3"
  },
  "language_info": {
   "codemirror_mode": {
    "name": "ipython",
    "version": 3
   },
   "file_extension": ".py",
   "mimetype": "text/x-python",
   "name": "python",
   "nbconvert_exporter": "python",
   "pygments_lexer": "ipython3",
   "version": "3.6.3"
  }
 },
 "nbformat": 4,
 "nbformat_minor": 2
}
