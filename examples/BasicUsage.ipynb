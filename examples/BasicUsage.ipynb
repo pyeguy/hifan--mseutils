{
 "cells": [
  {
   "cell_type": "markdown",
   "metadata": {},
   "source": [
    "### Imports\n",
    "* Note that module level tolerances are printed on module import. \n",
    "  * These can be overriden after import by just setting them eg. `mseutils.MZ_PPM = 7`\n"
   ]
  },
  {
   "cell_type": "code",
   "execution_count": null,
   "metadata": {},
   "outputs": [],
   "source": [
    "import mseutils\n",
    "import os #just needed for loading datafiles"
   ]
  },
  {
   "cell_type": "markdown",
   "metadata": {},
   "source": [
    "### Get Data Files from Module Path"
   ]
  },
  {
   "cell_type": "code",
   "execution_count": null,
   "metadata": {},
   "outputs": [],
   "source": [
    "modpath = mseutils.__path__[0]\n",
    "data_path = os.path.join(modpath,'..','examples','data')\n",
    "rep_file = os.path.join(data_path,\"SW218968-1_replicated.csv\")\n",
    "rep_frag_file = os.path.join(data_path,\"SW218968-1_rep_fragments.csv\")\n",
    "mgf_file = os.path.join(data_path,\"20160928_SW218968-1_iDTs_CPPIS.mgf\")\n"
   ]
  },
  {
   "cell_type": "markdown",
   "metadata": {},
   "source": [
    "### Load Replicated CSV files\n",
    "The `load_rep_and_frags_csv` func from the `file_parsers` reads in a replicated parent mass csv and the accompanying fragments file. The resulting `MseSpec`'s are then combined based on retetion time, drift time (ccs), and parent mz. Their fragments are added and averaged (m/z and intensity)."
   ]
  },
  {
   "cell_type": "code",
   "execution_count": null,
   "metadata": {},
   "outputs": [],
   "source": [
    "rep_mse_specs = mseutils.file_parsers.load_rep_and_frags_csv(rep_file,rep_frag_file)"
   ]
  },
  {
   "cell_type": "markdown",
   "metadata": {},
   "source": [
    "### Load a MGF file\n",
    "You can also load a mgf file directly by using the `load_mgf` function in `file_parsers`."
   ]
  },
  {
   "cell_type": "code",
   "execution_count": null,
   "metadata": {},
   "outputs": [],
   "source": [
    "mgf_mse_specs = mseutils.file_parsers.load_mgf(mgf_file)"
   ]
  },
  {
   "cell_type": "markdown",
   "metadata": {},
   "source": [
    "## MseSpec Objects\n",
    "The `MseSpec` object is pretty powerful class that holds information about an MSe spectrum as the name might suggest. \n",
    "\n",
    "This provides access to :\n",
    "* parent mz (mse.mz)\n",
    "* ccs (mse.mz)\n",
    "* retention time (in min) (mse.rt)\n",
    "* ms2_data (mse.ms2_data)\n",
    "* the number of spectra that were combined to make it up (mse.n)\n",
    "* and their mgf filenames (mse.mgf_files)\n",
    "* and others...\n",
    "    * like a ms2 fingerprint (mse.ms2vect) made by binning (1 amu) ms2_data"
   ]
  },
  {
   "cell_type": "code",
   "execution_count": null,
   "metadata": {},
   "outputs": [],
   "source": [
    "mse = rep_mse_specs[0]\n",
    "print(\"m/z: {}\".format(mse.mz))\n",
    "print(\"mse: {}\".format(mse.ccs))\n",
    "print(\"rt: {}\".format(mse.rt))\n",
    "print(\"ms2 data: {}\".format(mse.ms2_data))"
   ]
  },
  {
   "cell_type": "markdown",
   "metadata": {},
   "source": [
    "There is also a IPython/Jupyter Notebook hook for visualizing the ms2_data. The coloring is the matplotlib \"viridis\" color scheme and represents relative intensity of each fragment. "
   ]
  },
  {
   "cell_type": "code",
   "execution_count": null,
   "metadata": {},
   "outputs": [],
   "source": [
    "mse.ms2_data"
   ]
  },
  {
   "cell_type": "markdown",
   "metadata": {},
   "source": [
    "### Source Fragmentation\n",
    "To look at source fragments `src_frags` will compare each fragment within the retention time error window and check if the parent mz is in the ms2_data of another spec in that range. The fuction then adds the source frags to the `mse.src_frags` list. In the future I'll make the ms3 trees...\n"
   ]
  },
  {
   "cell_type": "code",
   "execution_count": null,
   "metadata": {},
   "outputs": [],
   "source": [
    "combined_src_frags = mseutils.src_frags(rep_mse_specs)"
   ]
  },
  {
   "cell_type": "code",
   "execution_count": null,
   "metadata": {},
   "outputs": [],
   "source": [
    "specs_wsrc_frags = [mse for mse in combined_src_frags if len(mse.src_frags)>0]\n",
    "print(\"Number of Specs with source fragments: {}\".format(len(specs_wsrc_frags)))\n",
    "specs_wsrc_frags[0].ms2_data"
   ]
  },
  {
   "cell_type": "code",
   "execution_count": null,
   "metadata": {},
   "outputs": [],
   "source": [
    "specs_wsrc_frags[0].src_frags[0]"
   ]
  },
  {
   "cell_type": "markdown",
   "metadata": {},
   "source": [
    "I think this spec with source fragmentation in this file is noise, the copius number of fragments with small mass deltas of the above doesn't ring true to me... TBD"
   ]
  },
  {
   "cell_type": "markdown",
   "metadata": {},
   "source": [
    "### Misc and etc"
   ]
  },
  {
   "cell_type": "markdown",
   "metadata": {},
   "source": [
    "There's a bunch of smaller classes used for comparing mz's rt's and ccs's. They all incorporate some basic arithmatic and comparison operators. Below is an example with `mseutils.MZ` objects"
   ]
  },
  {
   "cell_type": "code",
   "execution_count": null,
   "metadata": {},
   "outputs": [],
   "source": [
    "mz1 = mseutils.MZ(123.4678,z=1)\n",
    "mz2 = mseutils.MZ(123.4678001,z=1)\n",
    "mz3 = mseutils.MZ(123.4600,z=1)\n",
    "mz4 = mseutils.MZ(123.4678,z=2)\n",
    "mz1 == mz2"
   ]
  },
  {
   "cell_type": "code",
   "execution_count": null,
   "metadata": {},
   "outputs": [],
   "source": [
    "mz1 == mz3"
   ]
  },
  {
   "cell_type": "code",
   "execution_count": null,
   "metadata": {},
   "outputs": [],
   "source": [
    "mz1==mz4"
   ]
  },
  {
   "cell_type": "code",
   "execution_count": null,
   "metadata": {},
   "outputs": [],
   "source": [
    "mz1 + mz3 "
   ]
  },
  {
   "cell_type": "code",
   "execution_count": null,
   "metadata": {},
   "outputs": [],
   "source": [
    "mz1 > mz3"
   ]
  },
  {
   "cell_type": "code",
   "execution_count": null,
   "metadata": {},
   "outputs": [],
   "source": []
  }
 ],
 "metadata": {
  "kernelspec": {
   "display_name": "Python 3",
   "language": "python",
   "name": "python3"
  },
  "language_info": {
   "codemirror_mode": {
    "name": "ipython",
    "version": 3
   },
   "file_extension": ".py",
   "mimetype": "text/x-python",
   "name": "python",
   "nbconvert_exporter": "python",
   "pygments_lexer": "ipython3",
   "version": "3.6.3"
  }
 },
 "nbformat": 4,
 "nbformat_minor": 2
}
